{
 "cells": [
  {
   "cell_type": "code",
   "execution_count": null,
   "id": "9516d298-e48a-46ba-af58-8cd2442f5651",
   "metadata": {},
   "outputs": [],
   "source": [
    "import feedparser\n",
    "import dateutil.parser\n",
    "import requests\n",
    "from urllib.request import urlopen\n",
    "from bs4 import BeautifulSoup\n",
    "import mongo_utils\n",
    "from datetime import datetime as dt\n",
    "import re\n"
   ]
  },
  {
   "cell_type": "code",
   "execution_count": null,
   "id": "b8e193e0-9c14-4b67-904e-0a36f15c045b",
   "metadata": {},
   "outputs": [],
   "source": [
    "dbname = mongo_utils.get_database()\n",
    "collection_name = dbname[\"dnevnik_scrape_1\"]"
   ]
  },
  {
   "cell_type": "code",
   "execution_count": null,
   "id": "6019e4b1-7368-41bb-8a50-4ff5ff573031",
   "metadata": {},
   "outputs": [],
   "source": [
    "url='https://www.dnevnik.bg/rss/'"
   ]
  },
  {
   "cell_type": "code",
   "execution_count": null,
   "id": "3224b37c-fe3a-4254-a6b2-0435e8ce55e2",
   "metadata": {},
   "outputs": [],
   "source": [
    "feeds = feedparser.parse(url)"
   ]
  },
  {
   "cell_type": "code",
   "execution_count": null,
   "id": "823932de-0073-4571-a5a0-e10afde6c87b",
   "metadata": {},
   "outputs": [],
   "source": [
    "for lnk in feeds.entries:\n",
    "    try:\n",
    "       news_title=lnk.title\n",
    "       date_time=lnk.published\n",
    "       date_posted=dt.strptime(date_time, '%a, %d %b %Y %H:%M:%S %z').timestamp()\n",
    "       nlink=lnk.link\n",
    "       manin_page = requests.get(nlink)\n",
    "       man_page_data = manin_page.text\n",
    "       main_page = BeautifulSoup(man_page_data, 'html.parser')\n",
    "       pln_txt=main_page.find(\"div\", class_=\"article-content\")#.find_all('p')\n",
    "       pln_txt=pln_txt.find_all('p')\n",
    "       art_text=''\n",
    "       for tst in pln_txt:\n",
    "         try:\n",
    "           plain_text=tst.get_text().replace('\\n',' ').replace('\\xa0', ' ').replace('\\r', '').replace('\\t', '').replace('   ', '')\n",
    "           if \"©\" not in plain_text:\n",
    "               art_text += \"\\n\" + plain_text\n",
    "         except:\n",
    "           pass\n",
    "       text=art_text.replace('\\n',' ').replace('\\xa0', ' ').replace('\\r', '').replace('\\t', '').replace('   ', '')\n",
    "       news_payload = {\n",
    "       \"date_posted\" : date_posted,\n",
    "       \"news_link\" : nlink,\n",
    "       \"news_text\" : text,\n",
    "       \"news_title\" : news_title\n",
    "       }\n",
    "       print(\"inserting in mongo\")\n",
    "       collection_name.insert_many([news_payload])\n",
    "       print(news_payload)\n",
    "    except:\n",
    "        pass"
   ]
  }
 ],
 "metadata": {
  "kernelspec": {
   "display_name": "Python 3",
   "language": "python",
   "name": "python3"
  },
  "language_info": {
   "codemirror_mode": {
    "name": "ipython",
    "version": 3
   },
   "file_extension": ".py",
   "mimetype": "text/x-python",
   "name": "python",
   "nbconvert_exporter": "python",
   "pygments_lexer": "ipython3",
   "version": "3.6.13"
  }
 },
 "nbformat": 4,
 "nbformat_minor": 5
}
