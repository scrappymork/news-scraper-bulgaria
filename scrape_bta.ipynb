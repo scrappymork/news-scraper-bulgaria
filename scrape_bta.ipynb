{
 "cells": [
  {
   "cell_type": "code",
   "execution_count": null,
   "id": "159119c7-acdc-4f6a-94d1-c00c4ff41eca",
   "metadata": {},
   "outputs": [],
   "source": [
    "import feedparser\n",
    "import requests\n",
    "from urllib.request import urlopen\n",
    "from bs4 import BeautifulSoup\n",
    "import mongo_utils\n",
    "from dateutil import parser"
   ]
  },
  {
   "cell_type": "code",
   "execution_count": null,
   "id": "94030953-1a7f-4825-a1f2-fce838ff9886",
   "metadata": {},
   "outputs": [],
   "source": [
    "dbname = mongo_utils.get_database()"
   ]
  },
  {
   "cell_type": "code",
   "execution_count": null,
   "id": "dc85f6c0-34cc-4f35-98de-ba99d43b5fd2",
   "metadata": {},
   "outputs": [],
   "source": [
    "url = 'https://www.bta.bg'"
   ]
  },
  {
   "cell_type": "code",
   "execution_count": null,
   "id": "fdb2cafc-a113-4658-b730-cc0ff413d1f8",
   "metadata": {},
   "outputs": [],
   "source": [
    "manin_page = requests.get(url)\n",
    "man_page_data = manin_page.text\n",
    "main_page = BeautifulSoup(man_page_data, 'html.parser')"
   ]
  },
  {
   "cell_type": "code",
   "execution_count": null,
   "id": "a705686d-ad60-4857-9cc2-64495fe6592d",
   "metadata": {},
   "outputs": [],
   "source": [
    "for link in main_page.find_all('article', class_=\"news-card\"):\n",
    "    try :\n",
    "        post_url=link.find('h3',class_='news-card__title').find('a',href=True)\n",
    "        news_url = post_url['href']\n",
    "        news_link=url + news_url\n",
    "        page = requests.get(news_link)\n",
    "        data = page.text\n",
    "        soup = BeautifulSoup(data, 'html.parser')\n",
    "        text = soup.find('div', class_='post__content col-sm-10').get_text()\n",
    "        text = text.replace('\\n',' ').replace('\\xa0', ' ').replace('\\r', '').replace('\\t', '')\n",
    "        news_title = soup.find('h1', class_='post__title').get_text().replace('site.bta', '')\n",
    "        news_date = soup.find('div', class_='post__post').get_text()\n",
    "        conv_date = parser.parse(news_date)\n",
    "        date_posted = conv_date.strftime(\"%a, %d %b %y %H:%M:%S +0300\")\n",
    "        news_payload = {\n",
    "        \"date_posted\" : date_posted,\n",
    "        \"news_link\" : news_link,\n",
    "        \"news_text\" : text,\n",
    "        \"news_title\" : news_title\n",
    "        }\n",
    "        print(news_payload)\n",
    "        collection_name = dbname[\"bta_scrape_1\"]\n",
    "        collection_name.insert_many([news_payload])\n",
    "    except:    \n",
    "        pass"
   ]
  }
 ],
 "metadata": {
  "kernelspec": {
   "display_name": "readder",
   "language": "python",
   "name": "readder"
  },
  "language_info": {
   "codemirror_mode": {
    "name": "ipython",
    "version": 3
   },
   "file_extension": ".py",
   "mimetype": "text/x-python",
   "name": "python",
   "nbconvert_exporter": "python",
   "pygments_lexer": "ipython3",
   "version": "3.6.13"
  }
 },
 "nbformat": 4,
 "nbformat_minor": 5
}
