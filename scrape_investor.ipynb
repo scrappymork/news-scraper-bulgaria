{
 "cells": [
  {
   "cell_type": "code",
   "execution_count": null,
   "id": "9516d298-e48a-46ba-af58-8cd2442f5651",
   "metadata": {},
   "outputs": [],
   "source": [
    "import feedparser\n",
    "import dateutil.parser\n",
    "import requests\n",
    "from urllib.request import urlopen\n",
    "from bs4 import BeautifulSoup\n",
    "import mongo_utils\n",
    "from datetime import datetime as dt\n",
    "import json\n",
    "import re\n"
   ]
  },
  {
   "cell_type": "code",
   "execution_count": null,
   "id": "0eeeba93-fda6-4378-89fd-7bfbabf0a953",
   "metadata": {},
   "outputs": [],
   "source": [
    "dbname = mongo_utils.get_database()"
   ]
  },
  {
   "cell_type": "code",
   "execution_count": null,
   "id": "6019e4b1-7368-41bb-8a50-4ff5ff573031",
   "metadata": {},
   "outputs": [],
   "source": [
    "urls = ['https://www.investor.bg/rss/latest',\n",
    "    ]\n",
    "feeds = [feedparser.parse(url)['entries'] for url in urls]\n",
    "feed = [item for feed in feeds for item in feed]"
   ]
  },
  {
   "cell_type": "code",
   "execution_count": null,
   "id": "753905c6-dfbd-4bbb-8bd6-6779fdac99c0",
   "metadata": {},
   "outputs": [],
   "source": [
    "print(feed)\n"
   ]
  },
  {
   "cell_type": "code",
   "execution_count": null,
   "id": "005c3eac-0a78-4b6c-8dff-ab3d546cd58f",
   "metadata": {},
   "outputs": [],
   "source": [
    "for newslink in feed:\n",
    "  try:\n",
    "    #print(newslink[\"id\"])\n",
    "    nlink=newslink[\"link\"]\n",
    "    print(nlink)\n",
    "    collection_name = dbname[\"investor_scrape_1\"]\n",
    "    if list(collection_name.find({\"news_link\" : nlink })):\n",
    "        print(\"Article Exists\")\n",
    "    else:\n",
    "        dt_obj=newslink[\"published\"]\n",
    "        date_posted = dt.strptime(dt_obj, '%a, %d %b %Y %H:%M:%S %z').timestamp()\n",
    "        print(date_posted)\n",
    "        news_title=newslink[\"title\"]\n",
    "        print(news_title)\n",
    "        page = requests.get(nlink)\n",
    "        data = page.text\n",
    "        soup = BeautifulSoup(data, 'html.parser')\n",
    "        #print(soup)\n",
    "        #text = soup.find_all('p')\n",
    "        artcl = soup.find(\"script\", type=\"application/ld+json\").text\n",
    "        artcl = artcl.replace('  ','').replace('\\n',' ').replace('\\xa0', ' ').replace('\\r', '').replace('\\t', '')    \n",
    "        artcl = json.loads(artcl)\n",
    "        text=(artcl[\"articleBody\"])\n",
    "        news_payload = {\n",
    "        \"date_posted\" : date_posted,\n",
    "        \"news_link\" : nlink,\n",
    "        \"news_text\" : text,\n",
    "        \"news_title\" : news_title\n",
    "        }\n",
    "        collection_name.insert_many([news_payload])\n",
    "        print(news_payload)\n",
    "  except:\n",
    "    pass\n"
   ]
  },
  {
   "cell_type": "code",
   "execution_count": null,
   "metadata": {},
   "outputs": [],
   "source": [
    "\n",
    "\n",
    "\n",
    "\n",
    "\n"
   ]
  }
 ],
 "metadata": {
  "kernelspec": {
   "display_name": "Python 3.8.13 ('scrappy')",
   "language": "python",
   "name": "python3"
  },
  "language_info": {
   "codemirror_mode": {
    "name": "ipython",
    "version": 3
   },
   "file_extension": ".py",
   "mimetype": "text/x-python",
   "name": "python",
   "nbconvert_exporter": "python",
   "pygments_lexer": "ipython3",
   "version": "3.8.13"
  },
  "vscode": {
   "interpreter": {
    "hash": "f0edd8b59233e60942bd7ee8576c252ff73e785e198be1364fad8d3e1462a13f"
   }
  }
 },
 "nbformat": 4,
 "nbformat_minor": 5
}
