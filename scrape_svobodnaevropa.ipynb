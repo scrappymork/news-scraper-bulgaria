{
 "cells": [
  {
   "cell_type": "code",
   "execution_count": 34,
   "id": "9516d298-e48a-46ba-af58-8cd2442f5651",
   "metadata": {},
   "outputs": [],
   "source": [
    "import feedparser\n",
    "import dateutil.parser\n",
    "import requests\n",
    "from urllib.request import urlopen\n",
    "from bs4 import BeautifulSoup\n",
    "import mongo_utils\n",
    "from datetime import datetime as dt\n",
    "import re\n"
   ]
  },
  {
   "cell_type": "code",
   "execution_count": 35,
   "id": "b8e193e0-9c14-4b67-904e-0a36f15c045b",
   "metadata": {},
   "outputs": [],
   "source": [
    "dbname = mongo_utils.get_database()\n",
    "collection_name = dbname[\"svobodnaevropa_scrape_1\"]"
   ]
  },
  {
   "cell_type": "code",
   "execution_count": 36,
   "id": "6019e4b1-7368-41bb-8a50-4ff5ff573031",
   "metadata": {},
   "outputs": [],
   "source": [
    "urls=['https://www.svobodnaevropa.bg/api/epiqq']\n"
   ]
  },
  {
   "cell_type": "code",
   "execution_count": 37,
   "id": "5cf821cf",
   "metadata": {},
   "outputs": [],
   "source": [
    "feeds = feedparser.parse(url)"
   ]
  },
  {
   "cell_type": "code",
   "execution_count": 38,
   "id": "c97ff75f",
   "metadata": {},
   "outputs": [],
   "source": [
    "#print(feeds[\"entries\"])\n",
    "feeds = [feedparser.parse(url)['entries'] for url in urls]\n",
    "#feeds[1][0].keys()\n",
    "feed = [item for feed in feeds for item in feed]"
   ]
  },
  {
   "cell_type": "code",
   "execution_count": 40,
   "metadata": {},
   "outputs": [
    {
     "name": "stdout",
     "output_type": "stream",
     "text": [
      "Article Exists\n",
      "Article Exists\n",
      "Article Exists\n",
      "Article Exists\n",
      "Article Exists\n",
      "Article Exists\n",
      "Article Exists\n",
      "Article Exists\n",
      "Article Exists\n",
      "Article Exists\n",
      "Article Exists\n",
      "Article Exists\n",
      "Article Exists\n",
      "Article Exists\n",
      "Article Exists\n",
      "Article Exists\n",
      "Article Exists\n"
     ]
    }
   ],
   "source": [
    "for newslink in feed:\n",
    "   news_title=newslink['title']\n",
    "   nlink=newslink['link']\n",
    "   date_posted=newslink['published']\n",
    "   date_posted=dt.strptime(date_posted, '%a, %d %b %Y %H:%M:%S %z').timestamp()\n",
    "   text=newslink['description']\n",
    "   text=text.replace('\\n',' ').replace('\\xa0', ' ').replace('\\r', '').replace('\\t', '')\n",
    "   if not text == \"\" :\n",
    "      if list(collection_name.find({\"news_link\" : nlink })):\n",
    "         print(\"Article Exists\")\n",
    "      else:\n",
    "         news_payload = {\n",
    "            \"date_posted\" : date_posted,\n",
    "            \"news_link\" : nlink,\n",
    "            \"news_text\" : text,\n",
    "            \"news_title\" : news_title\n",
    "         }           \n",
    "         collection_name.insert_many([news_payload])\n",
    "         print(news_payload)\n",
    "\n"
   ]
  }
 ],
 "metadata": {
  "kernelspec": {
   "display_name": "Python 3",
   "language": "python",
   "name": "python3"
  },
  "language_info": {
   "codemirror_mode": {
    "name": "ipython",
    "version": 3
   },
   "file_extension": ".py",
   "mimetype": "text/x-python",
   "name": "python",
   "nbconvert_exporter": "python",
   "pygments_lexer": "ipython3",
   "version": "3.8.13"
  },
  "vscode": {
   "interpreter": {
    "hash": "f0edd8b59233e60942bd7ee8576c252ff73e785e198be1364fad8d3e1462a13f"
   }
  }
 },
 "nbformat": 4,
 "nbformat_minor": 5
}
