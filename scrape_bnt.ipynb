{
 "cells": [
  {
   "cell_type": "code",
   "execution_count": null,
   "id": "70a9103d-f074-43f0-8505-a55a2dda52e1",
   "metadata": {},
   "outputs": [],
   "source": [
    "#! pip install requests pymongo dnspython beautifulSoup4\n",
    "import feedparser\n",
    "import dateutil.parser\n",
    "import requests\n",
    "from urllib.request import urlopen\n",
    "from bs4 import BeautifulSoup\n",
    "import mongo_utils"
   ]
  },
  {
   "cell_type": "code",
   "execution_count": null,
   "id": "688f512a-507f-44f3-a5ed-d837b502e10b",
   "metadata": {},
   "outputs": [],
   "source": [
    "dbname = mongo_utils.get_database()"
   ]
  },
  {
   "cell_type": "code",
   "execution_count": null,
   "id": "c3683e47-1f42-4f15-b712-ad24dd567df6",
   "metadata": {},
   "outputs": [],
   "source": [
    "urls = ['http://news.bnt.bg/bg/rss/news.xml',\n",
    "        'http://news.bnt.bg/bg/rss/blogs.xml',\n",
    "    ]\n",
    "feeds = [feedparser.parse(url)['entries'] for url in urls]\n",
    "feeds[1][0].keys()\n",
    "feed = [item for feed in feeds for item in feed]"
   ]
  },
  {
   "cell_type": "code",
   "execution_count": null,
   "id": "838671ea-fc5f-4a0a-839c-593d4e767353",
   "metadata": {},
   "outputs": [],
   "source": [
    "for newslink in feed:\n",
    "  try:\n",
    "    #print(newslink[\"id\"])\n",
    "    nlink=newslink[\"id\"]\n",
    "    #print(nlink)\n",
    "    date_posted=newslink[\"published\"]\n",
    "    news_title=newslink[\"title\"]\n",
    "    page = requests.get(nlink)\n",
    "    data = page.text\n",
    "    soup = BeautifulSoup(data, 'html.parser')\n",
    "    #text = soup.find_all('p')\n",
    "    text= soup.find('div', class_='txt-news').get_text()\n",
    "    news_payload = {\n",
    "    \"date_posted\" : date_posted,\n",
    "    \"news_link\" : nlink,\n",
    "    \"news_text\" : text,\n",
    "    \"news_title\" : news_title\n",
    "    }\n",
    "    print(news_payload)\n",
    "    collection_name = dbname[\"bnt_scrape_1\"]\n",
    "    collection_name.insert_many([news_payload])\n",
    "  except:\n",
    "    pass"
   ]
  },
  {
   "cell_type": "code",
   "execution_count": null,
   "id": "598b2fd4-3552-453e-8460-a1f018f53b20",
   "metadata": {},
   "outputs": [],
   "source": []
  },
  {
   "cell_type": "code",
   "execution_count": null,
   "id": "2ca487d4-426c-41dc-8b90-b8bedc9981c9",
   "metadata": {},
   "outputs": [],
   "source": []
  },
  {
   "cell_type": "code",
   "execution_count": null,
   "id": "087a446e-a3cb-4d6c-a4b3-2e2f7a55be4d",
   "metadata": {},
   "outputs": [],
   "source": []
  }
 ],
 "metadata": {
  "kernelspec": {
   "display_name": "readder",
   "language": "python",
   "name": "readder"
  },
  "language_info": {
   "codemirror_mode": {
    "name": "ipython",
    "version": 3
   },
   "file_extension": ".py",
   "mimetype": "text/x-python",
   "name": "python",
   "nbconvert_exporter": "python",
   "pygments_lexer": "ipython3",
   "version": "3.6.13"
  }
 },
 "nbformat": 4,
 "nbformat_minor": 5
}
