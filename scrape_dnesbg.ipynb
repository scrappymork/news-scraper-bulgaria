{
 "cells": [
  {
   "cell_type": "code",
   "execution_count": null,
   "id": "9516d298-e48a-46ba-af58-8cd2442f5651",
   "metadata": {},
   "outputs": [],
   "source": [
    "import feedparser\n",
    "import dateutil.parser\n",
    "import requests\n",
    "from urllib.request import urlopen\n",
    "from bs4 import BeautifulSoup\n",
    "import mongo_utils\n",
    "from datetime import datetime as dt\n",
    "import re\n"
   ]
  },
  {
   "cell_type": "code",
   "execution_count": null,
   "id": "b8e193e0-9c14-4b67-904e-0a36f15c045b",
   "metadata": {},
   "outputs": [],
   "source": [
    "dbname = mongo_utils.get_database()\n",
    "collection_name = dbname[\"dnesbg_scrape_1\"]"
   ]
  },
  {
   "cell_type": "code",
   "execution_count": null,
   "id": "6019e4b1-7368-41bb-8a50-4ff5ff573031",
   "metadata": {},
   "outputs": [],
   "source": [
    "url='https://www.dnes.bg/news.php?today'\n"
   ]
  },
  {
   "cell_type": "code",
   "execution_count": null,
   "id": "5cf821cf",
   "metadata": {},
   "outputs": [],
   "source": [
    "feeds = feedparser.parse(url)"
   ]
  },
  {
   "cell_type": "code",
   "execution_count": null,
   "id": "e344001f-fe4f-4e42-9d4a-dc8aae886dda",
   "metadata": {},
   "outputs": [],
   "source": [
    "#print(feeds)\n",
    "manin_page = requests.get(url)\n",
    "man_page_data = manin_page.text\n",
    "main_page = BeautifulSoup(man_page_data, 'html.parser')\n",
    "pln_txt=main_page.find(\"p\", class_=\"pages\")#.find_all('p')\n",
    "pln_txt=pln_txt.find_all(\"a\", href=True)\n",
    "pgsnmb=[]\n",
    "for pgs in pln_txt:\n",
    "    nmbr=pgs['href'].rsplit('=',1)[-1]\n",
    "    pgsnmb.append(nmbr)\n",
    "pgsnmb.sort()\n",
    "last_page=pgsnmb[-1]\n"
   ]
  },
  {
   "cell_type": "code",
   "execution_count": null,
   "id": "1438ff98-4f06-4944-bbb4-6dc2190ff50f",
   "metadata": {},
   "outputs": [],
   "source": [
    "for page in range(1,int(last_page)+1):\n",
    "    try:\n",
    "        page=(url + \"&page=\" + str(page))\n",
    "        manin_page = requests.get(page)\n",
    "        man_page_data = manin_page.text\n",
    "        main_page = BeautifulSoup(man_page_data, 'html.parser')\n",
    "        pln_txt=main_page.find(\"div\", id=\"c\")\n",
    "        pln_txt=pln_txt.find(\"div\", id=\"c1\")\n",
    "        for n in pln_txt.find_all(\"div\", class_=\"b2\"):\n",
    "           try:\n",
    "            st_url=n.find(\"a\", href=True)\n",
    "            nlink=(\"https://www.dnes.bg\" + st_url['href'])\n",
    "            print(nlink)\n",
    "            dt_obj=n.find(\"div\", class_=\"date\").get_text()\n",
    "            date_posted=dt.strptime(dt_obj, '%d.%m.%Y %H:%M').timestamp()\n",
    "            art_page = requests.get(nlink)\n",
    "            art_page_data = art_page.text\n",
    "            art_page_data=BeautifulSoup(art_page_data, 'html.parser')\n",
    "            news_title=art_page_data.find(\"h1\", class_=\"title\").get_text()\n",
    "            art_page_data=art_page_data.find(\"div\", id=\"art_start\")\n",
    "            if art_page_data.find(\"div\", class_=\"article_related article_related_right\"):#.decompose()\n",
    "               art_page_data.find(\"div\", class_=\"article_related article_related_right\").decompose()\n",
    "            text=art_page_data.get_text().replace('\\n',' ').replace('\\xa0', ' ').replace('\\r', '').replace('\\t', ' ').replace('  ', ' ')\n",
    "            news_payload = {\n",
    "               \"date_posted\" : date_posted,\n",
    "               \"news_link\" : nlink,\n",
    "               \"news_text\" : text,\n",
    "               \"news_title\" : news_title\n",
    "            }           \n",
    "            collection_name.insert_many([news_payload])\n",
    "            print(news_payload)\n",
    "           except:\n",
    "             pass\n",
    "    except:\n",
    "        pass"
   ]
  }
 ],
 "metadata": {
  "kernelspec": {
   "display_name": "Python 3",
   "language": "python",
   "name": "python3"
  },
  "language_info": {
   "codemirror_mode": {
    "name": "ipython",
    "version": 3
   },
   "file_extension": ".py",
   "mimetype": "text/x-python",
   "name": "python",
   "nbconvert_exporter": "python",
   "pygments_lexer": "ipython3",
   "version": "3.6.13"
  },
  "vscode": {
   "interpreter": {
    "hash": "f0edd8b59233e60942bd7ee8576c252ff73e785e198be1364fad8d3e1462a13f"
   }
  }
 },
 "nbformat": 4,
 "nbformat_minor": 5
}
