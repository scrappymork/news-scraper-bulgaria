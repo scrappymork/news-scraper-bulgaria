{
 "cells": [
  {
   "cell_type": "code",
   "execution_count": null,
   "id": "9516d298-e48a-46ba-af58-8cd2442f5651",
   "metadata": {},
   "outputs": [],
   "source": [
    "import feedparser\n",
    "import dateutil.parser\n",
    "import requests\n",
    "from urllib.request import urlopen\n",
    "from bs4 import BeautifulSoup\n",
    "import mongo_utils\n",
    "from datetime import datetime as dt\n",
    "import re\n"
   ]
  },
  {
   "cell_type": "code",
   "execution_count": null,
   "id": "b8e193e0-9c14-4b67-904e-0a36f15c045b",
   "metadata": {},
   "outputs": [],
   "source": [
    "dbname = mongo_utils.get_database()"
   ]
  },
  {
   "cell_type": "code",
   "execution_count": null,
   "id": "6019e4b1-7368-41bb-8a50-4ff5ff573031",
   "metadata": {},
   "outputs": [],
   "source": [
    "url='https://dariknews.bg/novini'"
   ]
  },
  {
   "cell_type": "code",
   "execution_count": null,
   "id": "a09bf3b0-5d73-41a5-b44d-97c3435da0fc",
   "metadata": {},
   "outputs": [],
   "source": [
    "manin_page = requests.get(url)\n",
    "man_page_data = manin_page.text\n",
    "main_page = BeautifulSoup(man_page_data, 'html.parser')\n",
    "news_url=''    \n"
   ]
  },
  {
   "cell_type": "code",
   "execution_count": null,
   "id": "005c3eac-0a78-4b6c-8dff-ab3d546cd58f",
   "metadata": {},
   "outputs": [],
   "source": [
    "collection_name = dbname[\"dariknews_scrape_1\"]\n",
    "for scr_url in main_page.find_all('a', class_=\"gtm-CategoryArticlesList-click\", href=True):\n",
    "  try:\n",
    "    nlink=\"https:\" + scr_url['href']  \n",
    "    if list(collection_name.find({\"news_link\" : nlink })):\n",
    "            print(\"Article Exists\")\n",
    "    else:\n",
    "        page = requests.get(nlink)\n",
    "        #print(page)\n",
    "        data = page.text\n",
    "        #print(data)\n",
    "        soup = BeautifulSoup(data, 'html.parser')\n",
    "        text_body= soup.find(\"div\", class_=\"article-text-inner-wrapper io-article-body\").get_text()\n",
    "        text=text_body.replace('\\n',' ').replace('\\xa0', ' ').replace('\\r', '').replace('\\t', '')\n",
    "        print(text)\n",
    "        news_title=soup.find('title').get_text()\n",
    "        date_time=soup.find('time', class_=\"time-stamp\", datetime=True)\n",
    "        date_posted=dt.strptime(date_time['datetime'], '%Y-%m-%d %H:%M:%S').timestamp()\n",
    "        news_payload = {\n",
    "        \"date_posted\" : date_posted,\n",
    "        \"news_link\" : nlink,\n",
    "        \"news_text\" : text,\n",
    "        \"news_title\" : news_title\n",
    "        }\n",
    "        print(news_payload)\n",
    "        collection_name = dbname[\"dariknews_scrape_1\"]\n",
    "        collection_name.insert_many([news_payload])\n",
    "  except:\n",
    "    pass"
   ]
  }
 ],
 "metadata": {
  "kernelspec": {
   "display_name": "Python 3.8.13 ('scrappy')",
   "language": "python",
   "name": "python3"
  },
  "language_info": {
   "codemirror_mode": {
    "name": "ipython",
    "version": 3
   },
   "file_extension": ".py",
   "mimetype": "text/x-python",
   "name": "python",
   "nbconvert_exporter": "python",
   "pygments_lexer": "ipython3",
   "version": "3.8.13"
  },
  "vscode": {
   "interpreter": {
    "hash": "f0edd8b59233e60942bd7ee8576c252ff73e785e198be1364fad8d3e1462a13f"
   }
  }
 },
 "nbformat": 4,
 "nbformat_minor": 5
}
