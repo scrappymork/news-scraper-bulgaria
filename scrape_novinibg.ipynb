{
 "cells": [
  {
   "cell_type": "code",
   "execution_count": null,
   "id": "9516d298-e48a-46ba-af58-8cd2442f5651",
   "metadata": {},
   "outputs": [],
   "source": [
    "import feedparser\n",
    "import dateutil.parser\n",
    "import requests\n",
    "from urllib.request import urlopen\n",
    "from bs4 import BeautifulSoup\n",
    "import mongo_utils\n",
    "from datetime import datetime as dt\n",
    "import locale\n",
    "from datetime import date, datetime, time\n",
    "from babel.dates import format_date, format_datetime, format_time\n"
   ]
  },
  {
   "cell_type": "code",
   "execution_count": null,
   "id": "b8e193e0-9c14-4b67-904e-0a36f15c045b",
   "metadata": {},
   "outputs": [],
   "source": [
    "dbname = mongo_utils.get_database()\n"
   ]
  },
  {
   "cell_type": "code",
   "execution_count": null,
   "id": "6019e4b1-7368-41bb-8a50-4ff5ff573031",
   "metadata": {},
   "outputs": [],
   "source": [
    "url='https://novini.bg/latest-news'"
   ]
  },
  {
   "cell_type": "code",
   "execution_count": null,
   "id": "cecda709-e034-42ec-837d-05ffa1495423",
   "metadata": {},
   "outputs": [],
   "source": [
    "collection_name = dbname[\"novinibg_scrape_1\"]\n",
    "manin_page = requests.get(url)\n",
    "man_page_data = manin_page.text\n",
    "main_page = BeautifulSoup(man_page_data, 'html.parser')\n",
    "for scr_url in main_page.find_all('a', class_=\"pagination__link -theme-bg-block -theme-border-pagination\", href=True): \n",
    "    #print(scr_url[\"href\"])\n",
    "    manin_page = requests.get(scr_url[\"href\"])\n",
    "    man_page_data = manin_page.text\n",
    "    main_page = BeautifulSoup(man_page_data, 'html.parser')\n",
    "    for scr_url2 in main_page.find_all('article', class_=\"g-grid__item js-content\"):   \n",
    "        for final_url in scr_url2.find_all('a', href=True):\n",
    "            nlink=final_url[\"href\"]\n",
    "            #print(nlink)\n",
    "            if list(collection_name.find({\"news_link\" : nlink })):\n",
    "                print(\"Article Exists\")\n",
    "            else:                \n",
    "                manin_page = requests.get(nlink)\n",
    "                man_page_data = manin_page.text\n",
    "                main_page = BeautifulSoup(man_page_data, 'html.parser')\n",
    "                news_title=(main_page.find('title').get_text())\n",
    "                for scr_entr in main_page.find_all('section', class_=\"openArticle__content --spaced-bottom\"):\n",
    "                    test_lines=scr_entr.find_all('p')\n",
    "                    art_text=''\n",
    "                    for line in test_lines:\n",
    "                        plain_text=line.get_text().replace('  ','').replace('\\n',' ').replace('\\xa0', ' ').replace('\\r', '').replace('\\t', '')\n",
    "                        art_text += plain_text\n",
    "                    #print(art_text)\n",
    "                text=art_text\n",
    "                dta=main_page.find('p', class_=\"openArticle__date\").get_text().replace('  ','').replace('\\n',' ').replace('\\xa0', ' ').replace('\\r', '').replace('\\t', '')\n",
    "                locale.setlocale(locale.LC_ALL, 'bg_BG.UTF-8')\n",
    "                date_posted=dt.strptime(dta, '%d %B %Y %H:%M').timestamp()\n",
    "                news_payload = {\n",
    "                \"date_posted\" : date_posted,\n",
    "                \"news_link\" : nlink,\n",
    "                \"news_text\" : text,\n",
    "                \"news_title\" : news_title\n",
    "                }\n",
    "                collection_name.insert_many([news_payload])\n",
    "                print(news_payload)"
   ]
  }
 ],
 "metadata": {
  "kernelspec": {
   "display_name": "Python 3",
   "language": "python",
   "name": "python3"
  },
  "language_info": {
   "codemirror_mode": {
    "name": "ipython",
    "version": 3
   },
   "file_extension": ".py",
   "mimetype": "text/x-python",
   "name": "python",
   "nbconvert_exporter": "python",
   "pygments_lexer": "ipython3",
   "version": "3.6.13"
  }
 },
 "nbformat": 4,
 "nbformat_minor": 5
}
