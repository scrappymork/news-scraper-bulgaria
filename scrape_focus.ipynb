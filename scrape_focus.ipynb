{
 "cells": [
  {
   "cell_type": "code",
   "execution_count": null,
   "id": "9516d298-e48a-46ba-af58-8cd2442f5651",
   "metadata": {},
   "outputs": [],
   "source": [
    "import feedparser\n",
    "import dateutil.parser\n",
    "import requests\n",
    "from urllib.request import urlopen\n",
    "from bs4 import BeautifulSoup\n",
    "import mongo_utils"
   ]
  },
  {
   "cell_type": "code",
   "execution_count": null,
   "id": "8ad53b14-da38-4255-976c-80d389519b95",
   "metadata": {},
   "outputs": [],
   "source": [
    "dbname = mongo_utils.get_database()"
   ]
  },
  {
   "cell_type": "code",
   "execution_count": null,
   "id": "6019e4b1-7368-41bb-8a50-4ff5ff573031",
   "metadata": {},
   "outputs": [],
   "source": [
    "urls = [\"http://www.focus-news.net/RSS/channel_0.xml\",\n",
    "    ]\n",
    "feeds = [feedparser.parse(url)['entries'] for url in urls]\n",
    "for url in urls:\n",
    "    print(url)\n",
    "#feeds[1][0].keys()\n",
    "feed = [item for feed in feeds for item in feed]"
   ]
  },
  {
   "cell_type": "code",
   "execution_count": null,
   "id": "72d55654-e275-46c7-a525-2a98c555ac29",
   "metadata": {},
   "outputs": [],
   "source": [
    "#print(feed)"
   ]
  },
  {
   "cell_type": "code",
   "execution_count": null,
   "id": "005c3eac-0a78-4b6c-8dff-ab3d546cd58f",
   "metadata": {},
   "outputs": [],
   "source": [
    "for newslink in feed:\n",
    "  try:\n",
    "    #print(newslink[\"id\"])\n",
    "    nlink=newslink[\"link\"]\n",
    "    #print(nlink)\n",
    "    date_posted=newslink[\"published\"]\n",
    "    news_title=newslink[\"title\"]\n",
    "    text=newslink[\"summary\"]\n",
    "    page = requests.get(nlink)\n",
    "    data = page.text\n",
    "    soup = BeautifulSoup(data, 'html.parser')\n",
    "    #text = soup.find_all('p')\n",
    "    text = soup.find('div', class_='news-text').get_text()\n",
    "    text = text.replace('\\n',' ').replace('\\xa0', ' ').replace('\\r', '').replace('\\t', '')\n",
    "    news_payload = {\n",
    "    \"date_posted\" : date_posted,\n",
    "    \"news_link\" : nlink,\n",
    "    \"news_text\" : text,\n",
    "    \"news_title\" : news_title\n",
    "    }\n",
    "    print(news_payload)\n",
    "    collection_name = dbname[\"focus_scrape_1\"]\n",
    "    collection_name.insert_many([news_payload])\n",
    "  except:\n",
    "    pass"
   ]
  }
 ],
 "metadata": {
  "kernelspec": {
   "display_name": "readder",
   "language": "python",
   "name": "readder"
  },
  "language_info": {
   "codemirror_mode": {
    "name": "ipython",
    "version": 3
   },
   "file_extension": ".py",
   "mimetype": "text/x-python",
   "name": "python",
   "nbconvert_exporter": "python",
   "pygments_lexer": "ipython3",
   "version": "3.6.13"
  }
 },
 "nbformat": 4,
 "nbformat_minor": 5
}
