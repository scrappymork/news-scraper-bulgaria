{
 "cells": [
  {
   "cell_type": "code",
   "execution_count": null,
   "id": "9516d298-e48a-46ba-af58-8cd2442f5651",
   "metadata": {},
   "outputs": [],
   "source": [
    "import feedparser\n",
    "import dateutil.parser\n",
    "import requests\n",
    "from urllib.request import urlopen\n",
    "from bs4 import BeautifulSoup, Comment\n",
    "import mongo_utils\n",
    "from datetime import datetime as dt"
   ]
  },
  {
   "cell_type": "code",
   "execution_count": null,
   "id": "62e0788e-d5b5-4a13-87e0-9962c5740fe2",
   "metadata": {},
   "outputs": [],
   "source": [
    "dbname = mongo_utils.get_database()"
   ]
  },
  {
   "cell_type": "code",
   "execution_count": null,
   "id": "6019e4b1-7368-41bb-8a50-4ff5ff573031",
   "metadata": {},
   "outputs": [],
   "source": [
    "urls = ['https://www.vesti.bg/rss.php',\n",
    "    ]\n",
    "feeds = [feedparser.parse(url)['entries'] for url in urls]\n",
    "for url in urls:\n",
    "    print(url)\n",
    "#feeds[1][0].keys()\n",
    "feed = [item for feed in feeds for item in feed]"
   ]
  },
  {
   "cell_type": "code",
   "execution_count": null,
   "id": "8032c64b-b3e1-4186-b759-0b3cc3c8102b",
   "metadata": {},
   "outputs": [],
   "source": [
    "#print(feed)"
   ]
  },
  {
   "cell_type": "code",
   "execution_count": null,
   "id": "005c3eac-0a78-4b6c-8dff-ab3d546cd58f",
   "metadata": {},
   "outputs": [],
   "source": [
    "for newslink in feed:\n",
    "  try:\n",
    "    art_text = ''\n",
    "    nlink=newslink[\"link\"]\n",
    "    dt_obj=newslink[\"published\"]\n",
    "    date_posted = dt.strptime(dt_obj, '%a, %d %b %Y %H:%M:%S %z').timestamp()\n",
    "    news_title=newslink[\"title\"]\n",
    "    page = requests.get(nlink)\n",
    "    data = page.text\n",
    "    soup = BeautifulSoup(data, 'html.parser')\n",
    "    text_raw = soup.find('div', class_='article-text first-letter')\n",
    "    for element in text_raw(text=lambda text: isinstance(text, Comment)):\n",
    "          element.extract()\n",
    "    text_lines=text_raw.findAll('p')\n",
    "    for line in text_lines:\n",
    "        plain_text=line.get_text()\n",
    "        art_text += plain_text\n",
    "    text = art_text.replace(' ','', 1).replace('\\xa0','').replace('\\n',' ').replace('\\xa0', ' ').replace('\\r', '').replace('\\t', '')\n",
    "    news_payload = {\n",
    "    \"date_posted\" : date_posted,\n",
    "    \"news_link\" : nlink,\n",
    "    \"news_text\" : text,\n",
    "    \"news_title\" : news_title\n",
    "    }\n",
    "    print(news_payload)\n",
    "    collection_name = dbname[\"vesti_scrape_1\"]\n",
    "    collection_name.insert_many([news_payload])\n",
    "\n",
    "  except:\n",
    "    pass"
   ]
  }
 ],
 "metadata": {
  "kernelspec": {
   "display_name": "readder",
   "language": "python",
   "name": "readder"
  },
  "language_info": {
   "codemirror_mode": {
    "name": "ipython",
    "version": 3
   },
   "file_extension": ".py",
   "mimetype": "text/x-python",
   "name": "python",
   "nbconvert_exporter": "python",
   "pygments_lexer": "ipython3",
   "version": "3.6.13"
  }
 },
 "nbformat": 4,
 "nbformat_minor": 5
}
